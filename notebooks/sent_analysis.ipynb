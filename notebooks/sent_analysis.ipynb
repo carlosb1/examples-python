{
 "cells": [
  {
   "cell_type": "code",
   "execution_count": 5,
   "metadata": {},
   "outputs": [
    {
     "name": "stdout",
     "output_type": "stream",
     "text": [
      "Collecting package metadata: - ^C\n",
      "failed\n",
      "\n",
      "CondaError: KeyboardInterrupt\n",
      "\n"
     ]
    }
   ],
   "source": [
    "# install pytorch spacy torchtext\n",
    "# python -m spacy download en\n"
   ]
  },
  {
   "cell_type": "code",
   "execution_count": 2,
   "metadata": {},
   "outputs": [],
   "source": [
    "import torch\n",
    "from torchtext import data\n",
    "SEED = 1234\n",
    "torch.manual_seed(SEED)\n",
    "torch.backends.cudnn.deterministic = True\n",
    "TEXT = data.Field(tokenize = 'spacy')\n",
    "LABEL = data.LabelField(dtype = torch.float)"
   ]
  },
  {
   "cell_type": "code",
   "execution_count": 3,
   "metadata": {},
   "outputs": [
    {
     "name": "stdout",
     "output_type": "stream",
     "text": [
      "downloading aclImdb_v1.tar.gz\n"
     ]
    },
    {
     "name": "stderr",
     "output_type": "stream",
     "text": [
      "aclImdb_v1.tar.gz: 100%|██████████| 84.1M/84.1M [00:16<00:00, 5.03MB/s]\n"
     ]
    }
   ],
   "source": [
    "from torchtext import datasets\n",
    "train_data, test_data = datasets.IMDB.splits(TEXT, LABEL)"
   ]
  },
  {
   "cell_type": "code",
   "execution_count": 7,
   "metadata": {},
   "outputs": [
    {
     "name": "stdout",
     "output_type": "stream",
     "text": [
      "Number of training examples: 25000\n",
      "Number of testing examples: 25000\n"
     ]
    }
   ],
   "source": [
    "print(f'Number of training examples: {len(train_data)}')\n",
    "print(f'Number of testing examples: {len(test_data)}')"
   ]
  },
  {
   "cell_type": "code",
   "execution_count": 9,
   "metadata": {},
   "outputs": [
    {
     "name": "stdout",
     "output_type": "stream",
     "text": [
      "{'text': ['This', 'movie', 'is', 'simply', 'wonderful', '!', 'It', \"'s\", 'got', 'it', 'all', ':', 'laughter', ',', 'sorrow', ',', 'beauty', ',', 'poetry', ',', 'truth', '.', 'All', 'in', 'a', 'simple', 'yet', 'intense', 'story', '--', 'like', 'life', '!', 'You', 'wo', \"n't\", 'get', 'distracted', 'for', 'a', 'second.<br', '/><br', '/>10/10<br', '/><br', '/>P.S.', 'Somebody', 'tell', 'Hollywood', 'you', 'need', 'a', 'good', 'story', 'to', 'make', 'a', 'good', 'movie', ',', 'and', 'there', 'are', 'so', 'many', 'good', 'stories', 'out', 'there', '.'], 'label': 'pos'}\n"
     ]
    }
   ],
   "source": [
    "print(vars(train_data.examples[0]))"
   ]
  },
  {
   "cell_type": "code",
   "execution_count": 10,
   "metadata": {},
   "outputs": [],
   "source": [
    "import random\n",
    "train_data, valid_data = train_data.split(random_state = random.seed(SEED))"
   ]
  },
  {
   "cell_type": "code",
   "execution_count": 11,
   "metadata": {},
   "outputs": [
    {
     "name": "stdout",
     "output_type": "stream",
     "text": [
      "Number of training examples: 17500\n",
      "Number of validation examples: 7500\n",
      "Number of testing examples: 25000\n"
     ]
    }
   ],
   "source": [
    "print(f'Number of training examples: {len(train_data)}')\n",
    "print(f'Number of validation examples: {len(valid_data)}')\n",
    "print(f'Number of testing examples: {len(test_data)}')\n"
   ]
  },
  {
   "cell_type": "code",
   "execution_count": 13,
   "metadata": {},
   "outputs": [],
   "source": [
    "MAX_VOCAB_SIZE = 25_000\n",
    "TEXT.build_vocab(train_data, max_size = MAX_VOCAB_SIZE)\n",
    "LABEL.build_vocab(train_data) "
   ]
  },
  {
   "cell_type": "code",
   "execution_count": 14,
   "metadata": {},
   "outputs": [
    {
     "name": "stdout",
     "output_type": "stream",
     "text": [
      "Unique tokens in TEXT vocabulary: 25002\n",
      "Unique tokens in LABEL vocabulary: 2\n"
     ]
    }
   ],
   "source": [
    "print(f\"Unique tokens in TEXT vocabulary: {len(TEXT.vocab)}\")\n",
    "print(f\"Unique tokens in LABEL vocabulary: {len(LABEL.vocab)}\")"
   ]
  },
  {
   "cell_type": "code",
   "execution_count": 19,
   "metadata": {},
   "outputs": [
    {
     "data": {
      "text/plain": [
       "{'text': ['Seriously',\n",
       "  '.',\n",
       "  'This',\n",
       "  'is',\n",
       "  'one',\n",
       "  'of',\n",
       "  'the',\n",
       "  'most',\n",
       "  'stupid',\n",
       "  'family',\n",
       "  'shows',\n",
       "  'of',\n",
       "  'all',\n",
       "  'time.<br',\n",
       "  '/><br',\n",
       "  '/>Plot-',\n",
       "  'A',\n",
       "  'family',\n",
       "  'without',\n",
       "  'a',\n",
       "  'mother',\n",
       "  'and',\n",
       "  '3',\n",
       "  '\"',\n",
       "  'dads',\n",
       "  '\"',\n",
       "  'raise',\n",
       "  '3',\n",
       "  'little',\n",
       "  'girls',\n",
       "  'in',\n",
       "  'San',\n",
       "  'Francisco',\n",
       "  ',',\n",
       "  'California.<br',\n",
       "  '/><br',\n",
       "  '/>Characters-',\n",
       "  'Neat',\n",
       "  'freak',\n",
       "  'Danny',\n",
       "  ',',\n",
       "  'cartoon',\n",
       "  'loving',\n",
       "  'Joey',\n",
       "  ',',\n",
       "  'hair',\n",
       "  'obsessed',\n",
       "  'Jesse',\n",
       "  ',',\n",
       "  'spoiled',\n",
       "  'brat',\n",
       "  'Michelle',\n",
       "  ',',\n",
       "  'stupid',\n",
       "  'DJ',\n",
       "  ',',\n",
       "  'and',\n",
       "  'almost',\n",
       "  'normal',\n",
       "  'Stephanie',\n",
       "  '.',\n",
       "  'The',\n",
       "  'creators',\n",
       "  'of',\n",
       "  'this',\n",
       "  'show',\n",
       "  'really',\n",
       "  'want',\n",
       "  'you',\n",
       "  'to',\n",
       "  'hate',\n",
       "  'the',\n",
       "  'characters',\n",
       "  ',',\n",
       "  'do',\n",
       "  \"n't\",\n",
       "  'they',\n",
       "  '?',\n",
       "  '<',\n",
       "  'br',\n",
       "  '/><br',\n",
       "  '/>Therefore',\n",
       "  ',',\n",
       "  'I',\n",
       "  'do',\n",
       "  'not',\n",
       "  'think',\n",
       "  'anyone',\n",
       "  'should',\n",
       "  'watch',\n",
       "  'this',\n",
       "  'show',\n",
       "  '.',\n",
       "  'I',\n",
       "  'only',\n",
       "  'chuckled',\n",
       "  'at',\n",
       "  'a',\n",
       "  'few',\n",
       "  'moments',\n",
       "  'in',\n",
       "  'the',\n",
       "  'show',\n",
       "  \"'s\",\n",
       "  'whole',\n",
       "  'running',\n",
       "  ',',\n",
       "  'and',\n",
       "  'I',\n",
       "  'think',\n",
       "  'that',\n",
       "  'instead',\n",
       "  'of',\n",
       "  'lethal',\n",
       "  'injection',\n",
       "  ',',\n",
       "  'all',\n",
       "  'criminals',\n",
       "  'should',\n",
       "  'be',\n",
       "  'forced',\n",
       "  'to',\n",
       "  'watch',\n",
       "  'this',\n",
       "  'show',\n",
       "  ',',\n",
       "  'a',\n",
       "  'torture',\n",
       "  'far',\n",
       "  'worse',\n",
       "  'than',\n",
       "  'anything',\n",
       "  'else.<br',\n",
       "  '/><br',\n",
       "  '/>1.5/10',\n",
       "  'or',\n",
       "  ':',\n",
       "  'D'],\n",
       " 'label': 'neg'}"
      ]
     },
     "execution_count": 19,
     "metadata": {},
     "output_type": "execute_result"
    }
   ],
   "source": [
    "vars(train_data.examples[0])\n"
   ]
  },
  {
   "cell_type": "code",
   "execution_count": 20,
   "metadata": {},
   "outputs": [
    {
     "name": "stdout",
     "output_type": "stream",
     "text": [
      "[('the', 201894), (',', 192487), ('.', 164866), ('a', 109230), ('and', 109082), ('of', 100541), ('to', 93580), ('is', 76396), ('in', 61098), ('I', 54064), ('it', 53289), ('that', 49329), ('\"', 44246), (\"'s\", 43180), ('this', 42347), ('-', 37017), ('/><br', 35622), ('was', 34767), ('as', 30056), ('with', 29951)]\n",
      "['<unk>', '<pad>', 'the', ',', '.', 'a', 'and', 'of', 'to', 'is']\n",
      "defaultdict(<function _default_unk_index at 0x7f2420c20840>, {'neg': 0, 'pos': 1})\n"
     ]
    }
   ],
   "source": [
    "print(TEXT.vocab.freqs.most_common(20))\n",
    "print(TEXT.vocab.itos[:10])\n",
    "print(LABEL.vocab.stoi)"
   ]
  },
  {
   "cell_type": "code",
   "execution_count": 22,
   "metadata": {},
   "outputs": [],
   "source": [
    "BATCH_SIZE = 64\n",
    "\n",
    "device = torch.device('cuda' if torch.cuda.is_available() else 'cpu')\n",
    "\n",
    "train_iterator, valid_iterator, test_iterator = data.BucketIterator.splits(\n",
    "    (train_data, valid_data, test_data), \n",
    "    batch_size = BATCH_SIZE,\n",
    "    device = device)"
   ]
  },
  {
   "cell_type": "code",
   "execution_count": 23,
   "metadata": {},
   "outputs": [],
   "source": [
    "import torch.nn as nn\n",
    "\n",
    "class RNN(nn.Module):\n",
    "    def __init__(self, input_dim, embedding_dim, hidden_dim, output_dim):        \n",
    "        super().__init__()\n",
    "        self.embedding = nn.Embedding(input_dim, embedding_dim)\n",
    "        self.rnn = nn.RNN(embedding_dim, hidden_dim)\n",
    "        self.fc = nn.Linear(hidden_dim, output_dim)\n",
    "        \n",
    "    def forward(self, text):\n",
    "        #text = [sent len, batch size]\n",
    "        embedded = self.embedding(text)\n",
    "        #embedded = [sent len, batch size, emb dim]        \n",
    "        output, hidden = self.rnn(embedded)        \n",
    "        #output = [sent len, batch size, hid dim]\n",
    "        #hidden = [1, batch size, hid dim]        \n",
    "        assert torch.equal(output[-1,:,:], hidden.squeeze(0))        \n",
    "        return self.fc(hidden.squeeze(0))"
   ]
  },
  {
   "cell_type": "code",
   "execution_count": 24,
   "metadata": {},
   "outputs": [],
   "source": [
    "INPUT_DIM = len(TEXT.vocab)\n",
    "EMBEDDING_DIM = 100\n",
    "HIDDEN_DIM = 256\n",
    "OUTPUT_DIM = 1\n",
    "\n",
    "model = RNN(INPUT_DIM, EMBEDDING_DIM, HIDDEN_DIM, OUTPUT_DIM)"
   ]
  },
  {
   "cell_type": "code",
   "execution_count": 25,
   "metadata": {},
   "outputs": [
    {
     "name": "stdout",
     "output_type": "stream",
     "text": [
      "The model has 2,592,105 trainable parameters\n"
     ]
    }
   ],
   "source": [
    "def count_parameters(model):\n",
    "    return sum(p.numel() for p in model.parameters() if p.requires_grad)\n",
    "\n",
    "print(f'The model has {count_parameters(model):,} trainable parameters')"
   ]
  },
  {
   "cell_type": "code",
   "execution_count": 33,
   "metadata": {},
   "outputs": [],
   "source": [
    "import torch.optim as optim\n",
    "\n",
    "optimizer = optim.SGD(model.parameters(), lr=1e-3)\n",
    "criterion = nn.BCEWithLogitsLoss()\n",
    "model = model.to(device)\n",
    "criterion = criterion.to(device)"
   ]
  },
  {
   "cell_type": "code",
   "execution_count": 34,
   "metadata": {},
   "outputs": [],
   "source": [
    "def binary_accuracy(preds, y):\n",
    "    \"\"\"\n",
    "    Returns accuracy per batch, i.e. if you get 8/10 right, this returns 0.8, NOT 8\n",
    "    \"\"\"\n",
    "\n",
    "    #round predictions to the closest integer\n",
    "    rounded_preds = torch.round(torch.sigmoid(preds))\n",
    "    correct = (rounded_preds == y).float() #convert into float for division \n",
    "    acc = correct.sum() / len(correct)\n",
    "    return acc"
   ]
  },
  {
   "cell_type": "code",
   "execution_count": 35,
   "metadata": {},
   "outputs": [],
   "source": [
    "def train(model, iterator, optimizer, criterion):    \n",
    "    epoch_loss = 0\n",
    "    epoch_acc = 0    \n",
    "    model.train()    \n",
    "    for batch in iterator:        \n",
    "        optimizer.zero_grad()                \n",
    "        predictions = model(batch.text).squeeze(1)        \n",
    "        loss = criterion(predictions, batch.label)        \n",
    "        acc = binary_accuracy(predictions, batch.label)        \n",
    "        loss.backward()        \n",
    "        optimizer.step()        \n",
    "        epoch_loss += loss.item()\n",
    "        epoch_acc += acc.item()\n",
    "        \n",
    "    return epoch_loss / len(iterator), epoch_acc / len(iterator)"
   ]
  },
  {
   "cell_type": "code",
   "execution_count": 36,
   "metadata": {},
   "outputs": [],
   "source": [
    "def evaluate(model, iterator, criterion):    \n",
    "    epoch_loss = 0\n",
    "    epoch_acc = 0    \n",
    "    model.eval()    \n",
    "    with torch.no_grad():    \n",
    "        for batch in iterator:\n",
    "            predictions = model(batch.text).squeeze(1)\n",
    "            loss = criterion(predictions, batch.label)            \n",
    "            acc = binary_accuracy(predictions, batch.label)\n",
    "            epoch_loss += loss.item()\n",
    "            epoch_acc += acc.item()        \n",
    "    return epoch_loss / len(iterator), epoch_acc / len(iterator)\n"
   ]
  },
  {
   "cell_type": "code",
   "execution_count": 37,
   "metadata": {},
   "outputs": [],
   "source": [
    "import time\n",
    "\n",
    "def epoch_time(start_time, end_time):\n",
    "    elapsed_time = end_time - start_time\n",
    "    elapsed_mins = int(elapsed_time / 60)\n",
    "    elapsed_secs = int(elapsed_time - (elapsed_mins * 60))\n",
    "    return elapsed_mins, elapsed_secs\n"
   ]
  },
  {
   "cell_type": "code",
   "execution_count": 38,
   "metadata": {},
   "outputs": [
    {
     "name": "stdout",
     "output_type": "stream",
     "text": [
      "Epoch: 01 | Epoch Time: 1m 0s\n",
      "\tTrain Loss: 0.694 | Train Acc: 50.20%\n",
      "\t Val. Loss: 0.696 |  Val. Acc: 50.09%\n",
      "Epoch: 02 | Epoch Time: 1m 2s\n",
      "\tTrain Loss: 0.693 | Train Acc: 49.67%\n",
      "\t Val. Loss: 0.696 |  Val. Acc: 50.06%\n",
      "Epoch: 03 | Epoch Time: 1m 4s\n",
      "\tTrain Loss: 0.693 | Train Acc: 49.96%\n",
      "\t Val. Loss: 0.696 |  Val. Acc: 50.56%\n",
      "Epoch: 04 | Epoch Time: 1m 4s\n",
      "\tTrain Loss: 0.693 | Train Acc: 49.94%\n",
      "\t Val. Loss: 0.696 |  Val. Acc: 49.89%\n",
      "Epoch: 05 | Epoch Time: 1m 4s\n",
      "\tTrain Loss: 0.693 | Train Acc: 50.23%\n",
      "\t Val. Loss: 0.696 |  Val. Acc: 50.57%\n"
     ]
    }
   ],
   "source": [
    "N_EPOCHS = 5\n",
    "\n",
    "best_valid_loss = float('inf')\n",
    "\n",
    "for epoch in range(N_EPOCHS):\n",
    "\n",
    "    start_time = time.time()\n",
    "    \n",
    "    train_loss, train_acc = train(model, train_iterator, optimizer, criterion)\n",
    "    valid_loss, valid_acc = evaluate(model, valid_iterator, criterion)\n",
    "    \n",
    "    end_time = time.time()\n",
    "\n",
    "    epoch_mins, epoch_secs = epoch_time(start_time, end_time)\n",
    "    \n",
    "    if valid_loss < best_valid_loss:\n",
    "        best_valid_loss = valid_loss\n",
    "        torch.save(model.state_dict(), 'tut1-model.pt')\n",
    "    \n",
    "    print(f'Epoch: {epoch+1:02} | Epoch Time: {epoch_mins}m {epoch_secs}s')\n",
    "    print(f'\\tTrain Loss: {train_loss:.3f} | Train Acc: {train_acc*100:.2f}%')\n",
    "    print(f'\\t Val. Loss: {valid_loss:.3f} |  Val. Acc: {valid_acc*100:.2f}%')"
   ]
  },
  {
   "cell_type": "code",
   "execution_count": 39,
   "metadata": {},
   "outputs": [
    {
     "name": "stdout",
     "output_type": "stream",
     "text": [
      "Test Loss: 0.710 | Test Acc: 47.33%\n"
     ]
    }
   ],
   "source": [
    "model.load_state_dict(torch.load('tut1-model.pt'))\n",
    "\n",
    "test_loss, test_acc = evaluate(model, test_iterator, criterion)\n",
    "\n",
    "print(f'Test Loss: {test_loss:.3f} | Test Acc: {test_acc*100:.2f}%')"
   ]
  },
  {
   "cell_type": "code",
   "execution_count": null,
   "metadata": {},
   "outputs": [],
   "source": []
  }
 ],
 "metadata": {
  "kernelspec": {
   "display_name": "Python 3",
   "language": "python",
   "name": "python3"
  },
  "language_info": {
   "codemirror_mode": {
    "name": "ipython",
    "version": 3
   },
   "file_extension": ".py",
   "mimetype": "text/x-python",
   "name": "python",
   "nbconvert_exporter": "python",
   "pygments_lexer": "ipython3",
   "version": "3.7.2"
  }
 },
 "nbformat": 4,
 "nbformat_minor": 2
}
