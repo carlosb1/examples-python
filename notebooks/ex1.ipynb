{
 "cells": [
  {
   "cell_type": "code",
   "execution_count": 1,
   "metadata": {},
   "outputs": [
    {
     "name": "stdout",
     "output_type": "stream",
     "text": [
      "Requirement already satisfied: pymongo in /home/carlosb/miniconda3/envs/py37/lib/python3.7/site-packages (3.8.0)\n",
      "Requirement already satisfied: bs4 in /home/carlosb/miniconda3/envs/py37/lib/python3.7/site-packages (0.0.1)\n",
      "Requirement already satisfied: beautifulsoup4 in /home/carlosb/miniconda3/envs/py37/lib/python3.7/site-packages (from bs4) (4.7.1)\n",
      "Requirement already satisfied: soupsieve>=1.2 in /home/carlosb/miniconda3/envs/py37/lib/python3.7/site-packages (from beautifulsoup4->bs4) (1.9.1)\n"
     ]
    }
   ],
   "source": [
    "!pip install pymongo bs4"
   ]
  },
  {
   "cell_type": "code",
   "execution_count": 2,
   "metadata": {},
   "outputs": [],
   "source": [
    "from pymongo import MongoClient\n",
    "connection = MongoClient(\"0.0.0.0\", 27017)"
   ]
  },
  {
   "cell_type": "code",
   "execution_count": 3,
   "metadata": {},
   "outputs": [],
   "source": [
    "first_values = list(connection.db_news.news.find())[0:20]"
   ]
  },
  {
   "cell_type": "code",
   "execution_count": 4,
   "metadata": {},
   "outputs": [],
   "source": [
    "from bs4 import BeautifulSoup"
   ]
  },
  {
   "cell_type": "code",
   "execution_count": 5,
   "metadata": {},
   "outputs": [],
   "source": [
    "soup = BeautifulSoup(first_values[0]['html'])"
   ]
  },
  {
   "cell_type": "code",
   "execution_count": 6,
   "metadata": {},
   "outputs": [],
   "source": [
    "tags_to_remove = ['script', 'head']\n",
    "for tag in tags_to_remove:\n",
    "    for s in soup(tag):\n",
    "        s.extract()"
   ]
  },
  {
   "cell_type": "code",
   "execution_count": 8,
   "metadata": {},
   "outputs": [],
   "source": [
    "main_text = soup.find_all('div', 'container')"
   ]
  },
  {
   "cell_type": "code",
   "execution_count": 36,
   "metadata": {},
   "outputs": [
    {
     "data": {
      "text/plain": [
       "' Natalia Sánchez Uribe Supervivientes 2019 Meghan Markle bebé Juego de Tronos Hormiguero Janet Jumillas Juicio del Procés Miquel Iceta Amor - Mujer Nada- Masters 1000 Horóscopo Horario Ajax - Tottenham Iniciar sesión La Vanguardia Política Al Minuto Internacional Política Opinión Vida Deportes Economía Local Gente Cultura Sucesos Temas Política Elecciones Canales La Contra Natural Big Vang Salud Tecnología Televisión Series Muy Fan Cribeo Viajes Vivo Motor De Moda Comer Ediciones locales Madrid Barcelona Catalunya Comunidad Valenciana Andalucía País Vasco Ver más Servicios Programación TV Cartelera Horóscopo Loterías Política Última hora Hallada con vida a Natalia Sánchez Uribe, la joven desaparecida en París Tenis Sigue en directo el Auger-Aliassime - Nadal, del Masters 1.000 de Madrid Directo Juicio al ‘procés’: declaran más votante del 1-O citados por la defensa Política © La Vanguardia Ediciones Todos los derechos reservados Quiénes somos Contacto Aviso legal Ayuda Política de cookies Otras webs Política de privacidad Área de privacidad '"
      ]
     },
     "execution_count": 36,
     "metadata": {},
     "output_type": "execute_result"
    }
   ],
   "source": [
    "text = ''\n",
    "for elem_text in main_text:\n",
    "    text += elem_text.text\n",
    "    \n",
    "import re\n",
    "text = re.sub('\\s+',' ',text)\n",
    "text\n",
    "\n"
   ]
  },
  {
   "cell_type": "code",
   "execution_count": 38,
   "metadata": {},
   "outputs": [
    {
     "name": "stdout",
     "output_type": "stream",
     "text": [
      "Collecting nltk\n",
      "Requirement already satisfied: six in /home/carlosb/miniconda3/envs/py37/lib/python3.7/site-packages (from nltk) (1.12.0)\n",
      "Installing collected packages: nltk\n",
      "Successfully installed nltk-3.4.1\n"
     ]
    }
   ],
   "source": [
    "!pip install nltk"
   ]
  },
  {
   "cell_type": "code",
   "execution_count": 39,
   "metadata": {},
   "outputs": [
    {
     "name": "stderr",
     "output_type": "stream",
     "text": [
      "[nltk_data] Downloading package stopwords to\n",
      "[nltk_data]     /home/carlosb/nltk_data...\n",
      "[nltk_data]   Unzipping corpora/stopwords.zip.\n"
     ]
    },
    {
     "data": {
      "text/plain": [
       "True"
      ]
     },
     "execution_count": 39,
     "metadata": {},
     "output_type": "execute_result"
    }
   ],
   "source": [
    "import string\n",
    "import nltk\n",
    "nltk.download('stopwords')"
   ]
  },
  {
   "cell_type": "code",
   "execution_count": 43,
   "metadata": {},
   "outputs": [
    {
     "name": "stderr",
     "output_type": "stream",
     "text": [
      "[nltk_data] Downloading package stopwords to\n",
      "[nltk_data]     /home/carlosb/nltk_data...\n",
      "[nltk_data]   Package stopwords is already up-to-date!\n"
     ]
    }
   ],
   "source": [
    "#Getting Stopwords\n",
    "import string\n",
    "nltk.download('stopwords')\n",
    "from nltk.corpus import stopwords\n",
    "from nltk.stem.snowball import SnowballStemmer\n",
    "from nltk.stem.wordnet import WordNetLemmatizer\n",
    "stop = stopwords.words('spanish')\n",
    "sno = SnowballStemmer('spanish')\n"
   ]
  },
  {
   "cell_type": "code",
   "execution_count": 50,
   "metadata": {},
   "outputs": [],
   "source": [
    "def clean_punc(word):\n",
    "    cleaned = re.sub(r'[?|!|\\'|#]', r'', word)\n",
    "    cleaned = re.sub(r'[.|,|)|(|\\|/]', r' ', cleaned)\n",
    "    return cleaned"
   ]
  },
  {
   "cell_type": "code",
   "execution_count": null,
   "metadata": {},
   "outputs": [],
   "source": []
  },
  {
   "cell_type": "code",
   "execution_count": 48,
   "metadata": {},
   "outputs": [],
   "source": [
    "filtered_sentence = []\n",
    "for word in text.split():\n",
    "    for cleaned_word in clean_punc(word).split():\n",
    "        if (cleaned_word.isalpha() and (len(cleaned_word) > 2) and cleaned_word not in stop):\n",
    "                s = (sno.stem(cleaned_word.lower())).encode('utf8')\n",
    "                filtered_sentence.append(s)\n",
    "                \n",
    "clean_text = b' '.join(filtered_sentence)      "
   ]
  },
  {
   "cell_type": "code",
   "execution_count": 49,
   "metadata": {},
   "outputs": [
    {
     "data": {
      "text/plain": [
       "b'natali sanchez urib supervivient megh markl beb jueg tron hormiguer janet jumill juici proces miquel icet amor muj masters horoscop horari ajax tottenham inici sesion vanguardi polit minut internacional polit opinion vid deport econom local gent cultur suces tem polit eleccion canal contr natural big vang salud tecnolog television seri muy fan cribe viaj viv motor mod com edicion local madr barcelon cataluny comun valencian andaluc pais vasc ver servici program carteler horoscop lot polit ultim hor hall vid natali sanchez urib jov desaparec par tenis sig direct nadal masters madr direct juici decl votant cit defens polit vanguardi edicion tod derech reserv quien contact avis legal ayud polit cooki otras webs polit privac are privac'"
      ]
     },
     "execution_count": 49,
     "metadata": {},
     "output_type": "execute_result"
    }
   ],
   "source": [
    "clean_text"
   ]
  },
  {
   "cell_type": "code",
   "execution_count": null,
   "metadata": {},
   "outputs": [],
   "source": []
  }
 ],
 "metadata": {
  "kernelspec": {
   "display_name": "Python 3",
   "language": "python",
   "name": "python3"
  },
  "language_info": {
   "codemirror_mode": {
    "name": "ipython",
    "version": 3
   },
   "file_extension": ".py",
   "mimetype": "text/x-python",
   "name": "python",
   "nbconvert_exporter": "python",
   "pygments_lexer": "ipython3",
   "version": "3.7.2"
  }
 },
 "nbformat": 4,
 "nbformat_minor": 2
}
